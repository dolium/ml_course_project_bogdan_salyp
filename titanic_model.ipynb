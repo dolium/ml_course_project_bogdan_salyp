{
 "cells": [
  {
   "cell_type": "code",
   "execution_count": 1,
   "id": "4b66ae17",
   "metadata": {},
   "outputs": [],
   "source": [
    "import numpy as np\n",
    "import pandas as pd\n",
    "import matplotlib.pyplot as plt\n",
    "import seaborn as sns"
   ]
  },
  {
   "cell_type": "code",
   "execution_count": 2,
   "id": "9e5f6dce",
   "metadata": {},
   "outputs": [
    {
     "data": {
      "text/html": [
       "<div>\n",
       "<style scoped>\n",
       "    .dataframe tbody tr th:only-of-type {\n",
       "        vertical-align: middle;\n",
       "    }\n",
       "\n",
       "    .dataframe tbody tr th {\n",
       "        vertical-align: top;\n",
       "    }\n",
       "\n",
       "    .dataframe thead th {\n",
       "        text-align: right;\n",
       "    }\n",
       "</style>\n",
       "<table border=\"1\" class=\"dataframe\">\n",
       "  <thead>\n",
       "    <tr style=\"text-align: right;\">\n",
       "      <th></th>\n",
       "      <th>PassengerId</th>\n",
       "      <th>Survived</th>\n",
       "      <th>Pclass</th>\n",
       "      <th>Name</th>\n",
       "      <th>Sex</th>\n",
       "      <th>Age</th>\n",
       "      <th>SibSp</th>\n",
       "      <th>Parch</th>\n",
       "      <th>Ticket</th>\n",
       "      <th>Fare</th>\n",
       "      <th>Cabin</th>\n",
       "      <th>Embarked</th>\n",
       "    </tr>\n",
       "  </thead>\n",
       "  <tbody>\n",
       "    <tr>\n",
       "      <th>0</th>\n",
       "      <td>1</td>\n",
       "      <td>0</td>\n",
       "      <td>3</td>\n",
       "      <td>Braund, Mr. Owen Harris</td>\n",
       "      <td>male</td>\n",
       "      <td>22.0</td>\n",
       "      <td>1</td>\n",
       "      <td>0</td>\n",
       "      <td>A/5 21171</td>\n",
       "      <td>7.2500</td>\n",
       "      <td>NaN</td>\n",
       "      <td>S</td>\n",
       "    </tr>\n",
       "    <tr>\n",
       "      <th>1</th>\n",
       "      <td>2</td>\n",
       "      <td>1</td>\n",
       "      <td>1</td>\n",
       "      <td>Cumings, Mrs. John Bradley (Florence Briggs Th...</td>\n",
       "      <td>female</td>\n",
       "      <td>38.0</td>\n",
       "      <td>1</td>\n",
       "      <td>0</td>\n",
       "      <td>PC 17599</td>\n",
       "      <td>71.2833</td>\n",
       "      <td>C85</td>\n",
       "      <td>C</td>\n",
       "    </tr>\n",
       "    <tr>\n",
       "      <th>2</th>\n",
       "      <td>3</td>\n",
       "      <td>1</td>\n",
       "      <td>3</td>\n",
       "      <td>Heikkinen, Miss. Laina</td>\n",
       "      <td>female</td>\n",
       "      <td>26.0</td>\n",
       "      <td>0</td>\n",
       "      <td>0</td>\n",
       "      <td>STON/O2. 3101282</td>\n",
       "      <td>7.9250</td>\n",
       "      <td>NaN</td>\n",
       "      <td>S</td>\n",
       "    </tr>\n",
       "    <tr>\n",
       "      <th>3</th>\n",
       "      <td>4</td>\n",
       "      <td>1</td>\n",
       "      <td>1</td>\n",
       "      <td>Futrelle, Mrs. Jacques Heath (Lily May Peel)</td>\n",
       "      <td>female</td>\n",
       "      <td>35.0</td>\n",
       "      <td>1</td>\n",
       "      <td>0</td>\n",
       "      <td>113803</td>\n",
       "      <td>53.1000</td>\n",
       "      <td>C123</td>\n",
       "      <td>S</td>\n",
       "    </tr>\n",
       "    <tr>\n",
       "      <th>4</th>\n",
       "      <td>5</td>\n",
       "      <td>0</td>\n",
       "      <td>3</td>\n",
       "      <td>Allen, Mr. William Henry</td>\n",
       "      <td>male</td>\n",
       "      <td>35.0</td>\n",
       "      <td>0</td>\n",
       "      <td>0</td>\n",
       "      <td>373450</td>\n",
       "      <td>8.0500</td>\n",
       "      <td>NaN</td>\n",
       "      <td>S</td>\n",
       "    </tr>\n",
       "  </tbody>\n",
       "</table>\n",
       "</div>"
      ],
      "text/plain": [
       "   PassengerId  Survived  Pclass  \\\n",
       "0            1         0       3   \n",
       "1            2         1       1   \n",
       "2            3         1       3   \n",
       "3            4         1       1   \n",
       "4            5         0       3   \n",
       "\n",
       "                                                Name     Sex   Age  SibSp  \\\n",
       "0                            Braund, Mr. Owen Harris    male  22.0      1   \n",
       "1  Cumings, Mrs. John Bradley (Florence Briggs Th...  female  38.0      1   \n",
       "2                             Heikkinen, Miss. Laina  female  26.0      0   \n",
       "3       Futrelle, Mrs. Jacques Heath (Lily May Peel)  female  35.0      1   \n",
       "4                           Allen, Mr. William Henry    male  35.0      0   \n",
       "\n",
       "   Parch            Ticket     Fare Cabin Embarked  \n",
       "0      0         A/5 21171   7.2500   NaN        S  \n",
       "1      0          PC 17599  71.2833   C85        C  \n",
       "2      0  STON/O2. 3101282   7.9250   NaN        S  \n",
       "3      0            113803  53.1000  C123        S  \n",
       "4      0            373450   8.0500   NaN        S  "
      ]
     },
     "execution_count": 2,
     "metadata": {},
     "output_type": "execute_result"
    }
   ],
   "source": [
    "traindata = pd.read_csv(\"train.csv\")\n",
    "testdata = pd.read_csv(\"test.csv\")\n",
    "traindata.head()"
   ]
  },
  {
   "cell_type": "markdown",
   "id": "a6d845ec",
   "metadata": {},
   "source": [
    "Obviously there is a need to drop \"PassengerId\" and \"Name\" columns because they do not affect \"Survived\" column"
   ]
  },
  {
   "cell_type": "code",
   "execution_count": 3,
   "id": "b9c4f9b0",
   "metadata": {},
   "outputs": [
    {
     "data": {
      "text/html": [
       "<div>\n",
       "<style scoped>\n",
       "    .dataframe tbody tr th:only-of-type {\n",
       "        vertical-align: middle;\n",
       "    }\n",
       "\n",
       "    .dataframe tbody tr th {\n",
       "        vertical-align: top;\n",
       "    }\n",
       "\n",
       "    .dataframe thead th {\n",
       "        text-align: right;\n",
       "    }\n",
       "</style>\n",
       "<table border=\"1\" class=\"dataframe\">\n",
       "  <thead>\n",
       "    <tr style=\"text-align: right;\">\n",
       "      <th></th>\n",
       "      <th>Survived</th>\n",
       "      <th>Pclass</th>\n",
       "      <th>Sex</th>\n",
       "      <th>Age</th>\n",
       "      <th>SibSp</th>\n",
       "      <th>Parch</th>\n",
       "      <th>Ticket</th>\n",
       "      <th>Fare</th>\n",
       "      <th>Cabin</th>\n",
       "      <th>Embarked</th>\n",
       "    </tr>\n",
       "  </thead>\n",
       "  <tbody>\n",
       "    <tr>\n",
       "      <th>0</th>\n",
       "      <td>0</td>\n",
       "      <td>3</td>\n",
       "      <td>male</td>\n",
       "      <td>22.0</td>\n",
       "      <td>1</td>\n",
       "      <td>0</td>\n",
       "      <td>A/5 21171</td>\n",
       "      <td>7.2500</td>\n",
       "      <td>NaN</td>\n",
       "      <td>S</td>\n",
       "    </tr>\n",
       "    <tr>\n",
       "      <th>1</th>\n",
       "      <td>1</td>\n",
       "      <td>1</td>\n",
       "      <td>female</td>\n",
       "      <td>38.0</td>\n",
       "      <td>1</td>\n",
       "      <td>0</td>\n",
       "      <td>PC 17599</td>\n",
       "      <td>71.2833</td>\n",
       "      <td>C85</td>\n",
       "      <td>C</td>\n",
       "    </tr>\n",
       "    <tr>\n",
       "      <th>2</th>\n",
       "      <td>1</td>\n",
       "      <td>3</td>\n",
       "      <td>female</td>\n",
       "      <td>26.0</td>\n",
       "      <td>0</td>\n",
       "      <td>0</td>\n",
       "      <td>STON/O2. 3101282</td>\n",
       "      <td>7.9250</td>\n",
       "      <td>NaN</td>\n",
       "      <td>S</td>\n",
       "    </tr>\n",
       "    <tr>\n",
       "      <th>3</th>\n",
       "      <td>1</td>\n",
       "      <td>1</td>\n",
       "      <td>female</td>\n",
       "      <td>35.0</td>\n",
       "      <td>1</td>\n",
       "      <td>0</td>\n",
       "      <td>113803</td>\n",
       "      <td>53.1000</td>\n",
       "      <td>C123</td>\n",
       "      <td>S</td>\n",
       "    </tr>\n",
       "    <tr>\n",
       "      <th>4</th>\n",
       "      <td>0</td>\n",
       "      <td>3</td>\n",
       "      <td>male</td>\n",
       "      <td>35.0</td>\n",
       "      <td>0</td>\n",
       "      <td>0</td>\n",
       "      <td>373450</td>\n",
       "      <td>8.0500</td>\n",
       "      <td>NaN</td>\n",
       "      <td>S</td>\n",
       "    </tr>\n",
       "  </tbody>\n",
       "</table>\n",
       "</div>"
      ],
      "text/plain": [
       "   Survived  Pclass     Sex   Age  SibSp  Parch            Ticket     Fare  \\\n",
       "0         0       3    male  22.0      1      0         A/5 21171   7.2500   \n",
       "1         1       1  female  38.0      1      0          PC 17599  71.2833   \n",
       "2         1       3  female  26.0      0      0  STON/O2. 3101282   7.9250   \n",
       "3         1       1  female  35.0      1      0            113803  53.1000   \n",
       "4         0       3    male  35.0      0      0            373450   8.0500   \n",
       "\n",
       "  Cabin Embarked  \n",
       "0   NaN        S  \n",
       "1   C85        C  \n",
       "2   NaN        S  \n",
       "3  C123        S  \n",
       "4   NaN        S  "
      ]
     },
     "execution_count": 3,
     "metadata": {},
     "output_type": "execute_result"
    }
   ],
   "source": [
    "traindata.drop([\"PassengerId\", \"Name\"], axis = 1, inplace = True)\n",
    "traindata.head()"
   ]
  },
  {
   "cell_type": "markdown",
   "id": "3c7ab5df",
   "metadata": {},
   "source": [
    "Due to the ratio between count of Cabin NaNs and count of rows may be it is optimal to drop Cabin to improve model quality. But we will try that later"
   ]
  },
  {
   "cell_type": "code",
   "execution_count": null,
   "id": "69fd5dad",
   "metadata": {
    "scrolled": true
   },
   "outputs": [],
   "source": [
    "print(traindata.shape)\n",
    "traindata.isnull().sum()\n"
   ]
  },
  {
   "cell_type": "markdown",
   "id": "b0596583",
   "metadata": {},
   "source": [
    "The volume of unique values of ticket column is too huge, perhaps it does not contain core information:"
   ]
  },
  {
   "cell_type": "code",
   "execution_count": 4,
   "id": "63c605e4",
   "metadata": {},
   "outputs": [],
   "source": [
    "traindata = traindata.drop(\"Ticket\", axis = 1)"
   ]
  },
  {
   "cell_type": "markdown",
   "id": "a7fe59d9",
   "metadata": {},
   "source": [
    "Applying one-hot encoding for columns with string values, nans and int categorical marks:"
   ]
  },
  {
   "cell_type": "code",
   "execution_count": 5,
   "id": "05a434d8",
   "metadata": {},
   "outputs": [],
   "source": [
    "columns_to_encode = [\"Sex\", \"Cabin\", \"Embarked\"]"
   ]
  },
  {
   "cell_type": "code",
   "execution_count": 6,
   "id": "a2f99028",
   "metadata": {
    "scrolled": true
   },
   "outputs": [],
   "source": [
    "trainencoded = pd.concat([pd.get_dummies(traindata[columns_to_encode], dummy_na = True), traindata.drop(columns_to_encode, axis =1)], axis = 1)"
   ]
  },
  {
   "cell_type": "code",
   "execution_count": null,
   "id": "123b87cb",
   "metadata": {},
   "outputs": [],
   "source": [
    "trainencoded"
   ]
  },
  {
   "cell_type": "markdown",
   "id": "41d28f0d",
   "metadata": {},
   "source": [
    "No outliers detected:"
   ]
  },
  {
   "cell_type": "code",
   "execution_count": null,
   "id": "63884f59",
   "metadata": {
    "scrolled": false
   },
   "outputs": [],
   "source": [
    "traindata.describe()"
   ]
  },
  {
   "cell_type": "markdown",
   "id": "25546e53",
   "metadata": {},
   "source": [
    "Age column contains NaN values. Replacing with mean age:"
   ]
  },
  {
   "cell_type": "code",
   "execution_count": 7,
   "id": "6778357f",
   "metadata": {},
   "outputs": [],
   "source": [
    "trainencoded[\"Age\"].fillna(trainencoded[\"Age\"].mean(), inplace = True)"
   ]
  },
  {
   "cell_type": "markdown",
   "id": "700c0c40",
   "metadata": {},
   "source": [
    "<h4> Concerning correlations between values:</h4>"
   ]
  },
  {
   "cell_type": "markdown",
   "id": "06f41f00",
   "metadata": {},
   "source": [
    "SibSp has high correlation with Parch and Fare level correlates positively with probabilyty to survive:"
   ]
  },
  {
   "cell_type": "code",
   "execution_count": null,
   "id": "86537743",
   "metadata": {
    "scrolled": false
   },
   "outputs": [],
   "source": [
    "corr = trainencoded[trainencoded.columns[-6:161]].corr()\n",
    "sns.heatmap(corr, annot = True)"
   ]
  },
  {
   "cell_type": "markdown",
   "id": "75d865c8",
   "metadata": {},
   "source": [
    "T-SNE reveals some pattern using for these columns: Survived,\tPclass,\t Age,\tSibSp,\tParch,\tFare"
   ]
  },
  {
   "cell_type": "code",
   "execution_count": 10,
   "id": "20eb50c2",
   "metadata": {},
   "outputs": [],
   "source": [
    "from sklearn.manifold import TSNE\n",
    "compressed = TSNE(n_components=2, learning_rate=10, min_grad_norm = 0.0005,\n",
    "init='random', n_jobs = 4).fit_transform(trainencoded[trainencoded.columns[-6:161]])\n",
    "tsne_ds = pd.concat([traindata[\"Survived\"], pd.DataFrame(compressed)], axis = 1)"
   ]
  },
  {
   "cell_type": "code",
   "execution_count": 11,
   "id": "eb0926e1",
   "metadata": {},
   "outputs": [
    {
     "data": {
      "text/plain": [
       "<AxesSubplot:xlabel='0', ylabel='1'>"
      ]
     },
     "execution_count": 11,
     "metadata": {},
     "output_type": "execute_result"
    },
    {
     "data": {
      "image/png": "[encoded data removed]",
      "text/plain": [
       "<Figure size 432x288 with 1 Axes>"
      ]
     },
     "metadata": {},
     "output_type": "display_data"
    }
   ],
   "source": [
    "import seaborn as sns\n",
    "import matplotlib.pyplot as plt\n",
    "palette = sns.color_palette(\"flare\",2)\n",
    "sns.set_theme(palette = palette)\n",
    "f, ax = plt.subplots()\n",
    "sns.scatterplot(data = tsne_ds, x = 0, y = 1, hue = \"Survived\")"
   ]
  },
  {
   "cell_type": "markdown",
   "id": "b79e5c3a",
   "metadata": {},
   "source": [
    "Trying the same but with all columns. Some pattern still exist, it means that the SVM has potential for applying models"
   ]
  },
  {
   "cell_type": "code",
   "execution_count": 12,
   "id": "847c7db5",
   "metadata": {},
   "outputs": [
    {
     "data": {
      "text/plain": [
       "<AxesSubplot:xlabel='0', ylabel='1'>"
      ]
     },
     "execution_count": 12,
     "metadata": {},
     "output_type": "execute_result"
    },
    {
     "data": {
      "image/png": "[encoded data removed]",
      "text/plain": [
       "<Figure size 432x288 with 1 Axes>"
      ]
     },
     "metadata": {},
     "output_type": "display_data"
    }
   ],
   "source": [
    "compressed_all = TSNE(n_components=2, learning_rate=10, min_grad_norm = 0.00005,\n",
    "init='random', n_jobs = 4).fit_transform(trainencoded)\n",
    "tsne_ds_all = pd.concat([traindata[\"Survived\"], pd.DataFrame(compressed_all)], axis = 1)\n",
    "sns.scatterplot(data = tsne_ds_all, x = 0, y = 1, hue = \"Survived\")"
   ]
  },
  {
   "cell_type": "markdown",
   "id": "cff8eef6",
   "metadata": {},
   "source": [
    "Applying Random Forest Classifier:"
   ]
  },
  {
   "cell_type": "markdown",
   "id": "8c938f79",
   "metadata": {},
   "source": [
    "Create split for test data and train data:"
   ]
  },
  {
   "cell_type": "code",
   "execution_count": 8,
   "id": "6c349a34",
   "metadata": {},
   "outputs": [],
   "source": [
    "from sklearn.model_selection import train_test_split\n",
    "xtrain = trainencoded.drop([\"Survived\"], axis = 1)\n",
    "ytrain = trainencoded[\"Survived\"]\n",
    "X_train, X_test, y_train, y_test = train_test_split(xtrain, ytrain, test_size =  0.2, random_state = 42)"
   ]
  },
  {
   "cell_type": "markdown",
   "id": "760cd911",
   "metadata": {},
   "source": [
    "Finding best parameters for Random Forest:\n",
    "(Warning! Evaluation of next cell will take nearly 15 minutes)"
   ]
  },
  {
   "cell_type": "code",
   "execution_count": 15,
   "id": "ccd3ce8b",
   "metadata": {},
   "outputs": [
    {
     "name": "stdout",
     "output_type": "stream",
     "text": [
      "+1/16 +1/16 +1/16 +1/16 +1/16 +1/16 +1/16 +1/16 +1/16 +1/16 +1/16 +1/16 +1/16 +1/16 +1/16 +1/16 +1/16 +1/16 +1/16 +1/16 +1/16 +1/16 +1/16 +1/16 +1/16 +1/16 +1/16 +1/16 "
     ]
    }
   ],
   "source": [
    "from sklearn.model_selection import cross_val_score\n",
    "from sklearn.ensemble import RandomForestClassifier\n",
    "\n",
    "\n",
    "preds = []\n",
    "for ftr in range(10, 80, 10):\n",
    "    for est in range(3, 200, 50):\n",
    "        for splt in range(5, 20, 2):\n",
    "            for dp in range(3, 20, 2):\n",
    "                model = RandomForestClassifier(max_features = ftr/100, n_estimators = est, min_samples_split = splt, max_depth = dp, n_jobs = 6)\n",
    "                model.fit(X_train, y_train)\n",
    "                scores = cross_val_score(model, X_train, y_train, cv=4)\n",
    "                preds.append({\"score\":np.median(scores), \"max_features\":ftr/100, \"n_estimators\":est, \"min_samples_split\":splt, \"depth\":dp})\n",
    "p = sorted(preds, key = lambda item: item[\"score\"])"
   ]
  },
  {
   "cell_type": "markdown",
   "id": "94cf3279",
   "metadata": {},
   "source": [
    "The mvp-best parameters for Random Forest"
   ]
  },
  {
   "cell_type": "code",
   "execution_count": 18,
   "id": "23ebed7e",
   "metadata": {
    "scrolled": true
   },
   "outputs": [
    {
     "name": "stdout",
     "output_type": "stream",
     "text": [
      "{'score': 0.8426966292134832, 'max_features': 0.5, 'n_estimators': 103, 'min_samples_split': 5, 'depth': 17}\n"
     ]
    },
    {
     "data": {
      "text/plain": [
       "2016"
      ]
     },
     "execution_count": 18,
     "metadata": {},
     "output_type": "execute_result"
    }
   ],
   "source": [
    "print(p[-1])"
   ]
  },
  {
   "cell_type": "markdown",
   "id": "a43af2a6",
   "metadata": {},
   "source": [
    "This is how the Random Forest progress looks like. There were lots of of parameters that give the same score:"
   ]
  },
  {
   "cell_type": "code",
   "execution_count": 21,
   "id": "ac4f0f38",
   "metadata": {
    "scrolled": true
   },
   "outputs": [
    {
     "data": {
      "text/plain": [
       "[<matplotlib.lines.Line2D at 0x206ffab88b0>]"
      ]
     },
     "execution_count": 21,
     "metadata": {},
     "output_type": "execute_result"
    },
    {
     "data": {
      "image/png": "[encoded data removed]",
      "text/plain": [
       "<Figure size 432x288 with 1 Axes>"
      ]
     },
     "metadata": {},
     "output_type": "display_data"
    }
   ],
   "source": [
    "xlin = [i for i in range(1, len(p)+1)]\n",
    "ylin = [p[i][\"score\"] for i in range(len(p))]\n",
    "plt.plot(xlin, ylin)"
   ]
  },
  {
   "cell_type": "markdown",
   "id": "3afb4388",
   "metadata": {},
   "source": [
    "Try to heuristically find amount of estimators but with better accuracy:"
   ]
  },
  {
   "cell_type": "code",
   "execution_count": 39,
   "id": "de6339fb",
   "metadata": {
    "scrolled": true
   },
   "outputs": [
    {
     "name": "stdout",
     "output_type": "stream",
     "text": [
      "{'score': 0.8461538461538461, 'max_features': 0.5, 'n_estimators': 118, 'min_samples_split': 5, 'depth': 17}\n"
     ]
    }
   ],
   "source": [
    "estims = p[-1][\"n_estimators\"]\n",
    "preds = []\n",
    "for est in range(estims-50, estims+50):\n",
    "    model = RandomForestClassifier(max_features = 0.5, n_estimators = est, min_samples_split = 5, max_depth = 17, n_jobs = 6)\n",
    "    model.fit(X_train, y_train)\n",
    "    scores = cross_val_score(model, X_train, y_train, cv=4)\n",
    "    preds.append({\"score\":np.median(scores), \"max_features\":0.5, \"n_estimators\":est, \"min_samples_split\":5, \"depth\":17})\n",
    "    \n",
    "p = sorted(preds, key = lambda item: item[\"score\"])\n",
    "print(p[-1])"
   ]
  },
  {
   "cell_type": "code",
   "execution_count": 40,
   "id": "7f7e4edf",
   "metadata": {
    "scrolled": false
   },
   "outputs": [
    {
     "data": {
      "text/plain": [
       "[<matplotlib.lines.Line2D at 0x206860dd550>]"
      ]
     },
     "execution_count": 40,
     "metadata": {},
     "output_type": "execute_result"
    },
    {
     "data": {
      "image/png": "[encoded data removed]",
      "text/plain": [
       "<Figure size 432x288 with 1 Axes>"
      ]
     },
     "metadata": {},
     "output_type": "display_data"
    }
   ],
   "source": [
    "xlin = [i for i in range(1, len(preds)+1)]\n",
    "ylin = [preds[i][\"score\"] for i in range(len(preds))]\n",
    "plt.plot(xlin, ylin)"
   ]
  },
  {
   "cell_type": "markdown",
   "id": "b0585d3e",
   "metadata": {},
   "source": [
    "This estimator count parameters may be used for ensembling forest models:"
   ]
  },
  {
   "cell_type": "code",
   "execution_count": 43,
   "id": "7de26a8b",
   "metadata": {},
   "outputs": [
    {
     "data": {
      "text/plain": [
       "[131, 111, 118]"
      ]
     },
     "execution_count": 43,
     "metadata": {},
     "output_type": "execute_result"
    }
   ],
   "source": [
    "best_estims = [p[i][\"n_estimators\"] for i in range(len(p)) if p[i][\"score\"]>0.8435 ]\n",
    "best_estims"
   ]
  },
  {
   "cell_type": "markdown",
   "id": "fc7e72fb",
   "metadata": {},
   "source": [
    "Cross Validation with K-Fold method:\n",
    "P.S. The predictions are based on the X-axis, and the true values situated on the Y-axis on the heatmap."
   ]
  },
  {
   "cell_type": "code",
   "execution_count": 12,
   "id": "5c30575d",
   "metadata": {},
   "outputs": [
    {
     "name": "stdout",
     "output_type": "stream",
     "text": [
      "              precision    recall  f1-score   support\n",
      "\n",
      "           0       0.81      0.91      0.86       105\n",
      "           1       0.85      0.70      0.77        74\n",
      "\n",
      "    accuracy                           0.83       179\n",
      "   macro avg       0.83      0.81      0.82       179\n",
      "weighted avg       0.83      0.83      0.82       179\n",
      "\n"
     ]
    },
    {
     "data": {
      "image/png": "[encoded data removed]",
      "text/plain": [
       "<Figure size 432x288 with 2 Axes>"
      ]
     },
     "metadata": {
      "needs_background": "light"
     },
     "output_type": "display_data"
    }
   ],
   "source": [
    "from sklearn.ensemble import RandomForestClassifier\n",
    "from sklearn.metrics import confusion_matrix, ConfusionMatrixDisplay, classification_report\n",
    "import seaborn as sns\n",
    "model = RandomForestClassifier(max_features = 0.5, n_estimators = 103, min_samples_split = 5, max_depth = 17)\n",
    "model.fit(X_train, y_train)\n",
    "y_pred = model.predict(X_test)\n",
    "\n",
    "conf_matrix = confusion_matrix(y_test, y_pred)\n",
    "#display = ConfusionMatrixDisplay(conf_matrix)\n",
    "#display.plot()\n",
    "sns.heatmap(conf_matrix, annot=True,cmap=\"OrRd\")\n",
    "print(classification_report(y_test, y_pred))\n"
   ]
  },
  {
   "cell_type": "markdown",
   "id": "12ff2064",
   "metadata": {},
   "source": [
    "Roc-auc score reveals that model separates classes quite good"
   ]
  },
  {
   "cell_type": "code",
   "execution_count": 17,
   "id": "237ae2ac",
   "metadata": {},
   "outputs": [
    {
     "data": {
      "text/plain": [
       "0.8772200772200772"
      ]
     },
     "execution_count": 17,
     "metadata": {},
     "output_type": "execute_result"
    }
   ],
   "source": [
    "from sklearn.metrics import roc_auc_score\n",
    "roc_auc_score(y_test, model.predict_proba(X_test)[:, 1])\n"
   ]
  },
  {
   "cell_type": "markdown",
   "id": "fd6b1e8a",
   "metadata": {},
   "source": [
    "Cross-validation with 4 sample-packs. The score varies significantly depending on a particular sample-pack"
   ]
  },
  {
   "cell_type": "code",
   "execution_count": 23,
   "id": "54b7aee4",
   "metadata": {
    "scrolled": true
   },
   "outputs": [
    {
     "name": "stdout",
     "output_type": "stream",
     "text": [
      "Minimum score: 0.8089887640449438, Maximum score: 0.8651685393258427\n",
      "0.8089887640449438 0.8651685393258427 0.8202247191011236 0.8595505617977528\n",
      "The median score is: 0.8398876404494382\n"
     ]
    }
   ],
   "source": [
    "from sklearn.model_selection import cross_val_score\n",
    "scores = cross_val_score(model, X_train, y_train, cv=4)\n",
    "print(f'Minimum score: {min(scores)}, Maximum score: {max(scores)}')\n",
    "print(*scores)\n",
    "print(f\"The median score is: {np.median(scores)}\")"
   ]
  },
  {
   "cell_type": "markdown",
   "id": "cfd695e4",
   "metadata": {},
   "source": [
    "Estimation of feature importances according to Random Forest model:"
   ]
  },
  {
   "cell_type": "code",
   "execution_count": 28,
   "id": "69c581c3",
   "metadata": {},
   "outputs": [
    {
     "data": {
      "text/plain": [
       "<AxesSubplot:>"
      ]
     },
     "execution_count": 28,
     "metadata": {},
     "output_type": "execute_result"
    },
    {
     "data": {
      "image/png": "[encoded data removed]",
      "text/plain": [
       "<Figure size 432x288 with 1 Axes>"
      ]
     },
     "metadata": {},
     "output_type": "display_data"
    }
   ],
   "source": [
    "imp = model.feature_importances_\n",
    "forest_importances = pd.Series(imp)\n",
    "best_columns = xtrain.columns[forest_importances[forest_importances>0.140].index]\n",
    "forest_importances[forest_importances>0.005].plot.bar()"
   ]
  },
  {
   "cell_type": "markdown",
   "id": "9907460d",
   "metadata": {},
   "source": [
    "The most important features:"
   ]
  },
  {
   "cell_type": "code",
   "execution_count": 29,
   "id": "99a563c1",
   "metadata": {
    "scrolled": true
   },
   "outputs": [
    {
     "data": {
      "text/plain": [
       "<AxesSubplot:>"
      ]
     },
     "execution_count": 29,
     "metadata": {},
     "output_type": "execute_result"
    },
    {
     "data": {
      "image/png": "[encoded data removed]",
      "text/plain": [
       "<Figure size 432x288 with 1 Axes>"
      ]
     },
     "metadata": {},
     "output_type": "display_data"
    }
   ],
   "source": [
    "forest_importances[forest_importances>0.100].plot.bar()"
   ]
  },
  {
   "cell_type": "markdown",
   "id": "b3209f47",
   "metadata": {},
   "source": [
    "Sex, Age and Fare give the most powerful impact:"
   ]
  },
  {
   "cell_type": "code",
   "execution_count": 30,
   "id": "b9d640b0",
   "metadata": {
    "scrolled": false
   },
   "outputs": [
    {
     "name": "stdout",
     "output_type": "stream",
     "text": [
      "Sex_female Sex_male Age Fare\n"
     ]
    }
   ],
   "source": [
    "print(*best_columns.values)"
   ]
  },
  {
   "cell_type": "markdown",
   "id": "308e1f87",
   "metadata": {},
   "source": [
    "Applying SVC model using cross-validation:"
   ]
  },
  {
   "cell_type": "code",
   "execution_count": 31,
   "id": "1fbbb8c1",
   "metadata": {},
   "outputs": [],
   "source": [
    "from sklearn.svm import SVC\n",
    "from sklearn.pipeline import make_pipeline\n",
    "from sklearn.preprocessing import StandardScaler\n",
    "from sklearn.model_selection import cross_val_score\n",
    "X_train, X_test, y_train, y_test = train_test_split(xtrain, ytrain, test_size =  0.3, random_state = 42)\n",
    "\n",
    "\n",
    "scores = []\n",
    "for gamma in range(100, 500, 50):\n",
    "    for toler in range(500, 5000, 250):\n",
    "        clf = make_pipeline(StandardScaler(), SVC(cache_size = 2048, random_state = 42, gamma = 1/gamma, tol = 1/toler))\n",
    "        score = np.median(cross_val_score(clf, X_train, y_train, cv = 4, n_jobs = 6))\n",
    "        scores.append({\"score\":score, \"gamma\":1/gamma, \"tol\": 1/toler})\n"
   ]
  },
  {
   "cell_type": "markdown",
   "id": "a29ce5fe",
   "metadata": {},
   "source": [
    "By changing gamma and tol parameters score fluctuates insignificantly from 0.77 to 0.78"
   ]
  },
  {
   "cell_type": "code",
   "execution_count": 32,
   "id": "f3735f51",
   "metadata": {
    "scrolled": true
   },
   "outputs": [
    {
     "name": "stdout",
     "output_type": "stream",
     "text": [
      "The best result and parameters: {'score': 0.782051282051282, 'gamma': 0.01, 'tol': 0.002}\n",
      "The worst result: {'score': 0.7756410256410255, 'gamma': 0.002857142857142857, 'tol': 0.0002105263157894737}\n"
     ]
    }
   ],
   "source": [
    "x = sorted(scores, key = lambda item: item[\"score\"], reverse = True)\n",
    "print(f\"The best result and parameters: {x[0]}\")\n",
    "print(f\"The worst result: {x[-1]}\")"
   ]
  },
  {
   "cell_type": "markdown",
   "id": "bbb272b1",
   "metadata": {},
   "source": [
    "Applying K-neighbours Classifier and finding best parameters using cross validation in cicle:"
   ]
  },
  {
   "cell_type": "code",
   "execution_count": 33,
   "id": "74b92013",
   "metadata": {},
   "outputs": [
    {
     "data": {
      "text/plain": [
       "{'score': 0.7202646815550041, 'n_neighbors': 5}"
      ]
     },
     "execution_count": 33,
     "metadata": {},
     "output_type": "execute_result"
    }
   ],
   "source": [
    "from sklearn.neighbors import KNeighborsClassifier\n",
    "from sklearn.model_selection import cross_val_score\n",
    "predictions = []\n",
    "for i in range(2, 500):\n",
    "    neigh = KNeighborsClassifier(n_neighbors=i)\n",
    "    score = np.median(cross_val_score(neigh, X_train, y_train, cv = 4, n_jobs = 6))\n",
    "    predictions.append({\"score\":score, \"n_neighbors\":i})\n",
    "x = sorted(predictions, key = lambda item: item[\"score\"], reverse = True)\n",
    "x[0]"
   ]
  },
  {
   "cell_type": "markdown",
   "id": "1a0ad0a7",
   "metadata": {},
   "source": [
    "Score depending on amount of neighbors graph:"
   ]
  },
  {
   "cell_type": "code",
   "execution_count": 34,
   "id": "77191a23",
   "metadata": {},
   "outputs": [],
   "source": [
    "predictions_scores = [item[\"score\"] for item in predictions]\n",
    "nbrs = list(range(2, 500))"
   ]
  },
  {
   "cell_type": "code",
   "execution_count": 35,
   "id": "ad8d9adb",
   "metadata": {
    "scrolled": false
   },
   "outputs": [
    {
     "data": {
      "text/plain": [
       "[<matplotlib.lines.Line2D at 0x206fff38070>]"
      ]
     },
     "execution_count": 35,
     "metadata": {},
     "output_type": "execute_result"
    },
    {
     "data": {
      "image/png": "[encoded data removed]",
      "text/plain": [
       "<Figure size 432x288 with 1 Axes>"
      ]
     },
     "metadata": {},
     "output_type": "display_data"
    }
   ],
   "source": [
    "import matplotlib.pyplot as plt\n",
    "plt.plot(nbrs, predictions_scores)"
   ]
  },
  {
   "cell_type": "markdown",
   "id": "f99006ed",
   "metadata": {},
   "source": [
    "Finding the best parameters for Cat Boost Classifier with early stop. (AUC as a main metric):"
   ]
  },
  {
   "cell_type": "markdown",
   "id": "651acc49",
   "metadata": {},
   "source": [
    "Ratio of people who survived to death is 60:40. Profit may be gained by enabling \"stratified\" CatBoost option."
   ]
  },
  {
   "cell_type": "code",
   "execution_count": 13,
   "id": "859c9826",
   "metadata": {
    "scrolled": true
   },
   "outputs": [
    {
     "name": "stdout",
     "output_type": "stream",
     "text": [
      "268\n"
     ]
    },
    {
     "data": {
      "text/plain": [
       "0.6036036036036037"
      ]
     },
     "execution_count": 13,
     "metadata": {},
     "output_type": "execute_result"
    }
   ],
   "source": [
    "print(len(y_train) - sum(y_train))\n",
    "268/444"
   ]
  },
  {
   "cell_type": "markdown",
   "id": "33595dbc",
   "metadata": {},
   "source": [
    "15 iterations of algorithm with learning rate = 0.1 is the best. Increasing of learning rate decreases amount of iterations needed, but rockets entropy of AUC. leraning rate 0.1 is probably the best. Stratifing slightly increasing results."
   ]
  },
  {
   "cell_type": "code",
   "execution_count": 19,
   "id": "11fcb4d1",
   "metadata": {
    "scrolled": false
   },
   "outputs": [
    {
     "data": {
      "application/vnd.jupyter.widget-view+json": {
       "model_id": "86d50bb78fde4c79a94d56e2679ed8b3",
       "version_major": 2,
       "version_minor": 0
      },
      "text/plain": [
       "MetricVisualizer(layout=Layout(align_self='stretch', height='500px'))"
      ]
     },
     "metadata": {},
     "output_type": "display_data"
    },
    {
     "name": "stdout",
     "output_type": "stream",
     "text": [
      "Training on fold [0/5]\n",
      "\n",
      "bestTest = 0.4205837283\n",
      "bestIteration = 29\n",
      "\n",
      "Training on fold [1/5]\n",
      "\n",
      "bestTest = 0.441720311\n",
      "bestIteration = 20\n",
      "\n",
      "Training on fold [2/5]\n",
      "\n",
      "bestTest = 0.3626672087\n",
      "bestIteration = 70\n",
      "\n",
      "Training on fold [3/5]\n",
      "\n",
      "bestTest = 0.410084578\n",
      "bestIteration = 55\n",
      "\n",
      "Training on fold [4/5]\n",
      "\n",
      "bestTest = 0.4356427096\n",
      "bestIteration = 18\n",
      "\n"
     ]
    },
    {
     "data": {
      "text/plain": [
       "'model = CatBoostClassifier(\\n    iterations = 300,\\n    learning_rate = 0.1,\\n    loss_function = \"Logloss\",\\n    verbose = False,\\n    eval_metric = \"AUC\",\\n    early_stopping_rounds = 5\\n)'"
      ]
     },
     "execution_count": 19,
     "metadata": {},
     "output_type": "execute_result"
    }
   ],
   "source": [
    "from catboost import CatBoostClassifier\n",
    "from catboost import Pool\n",
    "from catboost import cv\n",
    "from sklearn.metrics import accuracy_score\n",
    "\n",
    "pool = Pool(X_train, label = y_train)\n",
    "\n",
    "params = {}\n",
    "params['loss_function'] = 'Logloss'\n",
    "params['early_stopping_rounds'] = 10\n",
    "params['custom_loss'] = 'AUC'\n",
    "params['random_seed'] = 42\n",
    "params['learning_rate'] = 0.1\n",
    "params['verbose'] = False\n",
    "cv_data = cv(\n",
    "    params = params,\n",
    "    pool = pool,\n",
    "    fold_count=5,\n",
    "    shuffle=True,\n",
    "    partition_random_seed=0,\n",
    "    plot=True,\n",
    "    stratified=True,\n",
    "    \n",
    ")\n",
    "\n",
    "\n"
   ]
  },
  {
   "cell_type": "markdown",
   "id": "390ad0cf",
   "metadata": {},
   "source": [
    "Training model with this parameters. However accuracy and AUC fluctuate insignificantly after 4-th iteration, logloss decreases steadily."
   ]
  },
  {
   "cell_type": "code",
   "execution_count": 36,
   "id": "b1614b97",
   "metadata": {
    "scrolled": true
   },
   "outputs": [
    {
     "data": {
      "application/vnd.jupyter.widget-view+json": {
       "model_id": "3ae32dc561e94af9adc8bca08ede0aa7",
       "version_major": 2,
       "version_minor": 0
      },
      "text/plain": [
       "MetricVisualizer(layout=Layout(align_self='stretch', height='500px'))"
      ]
     },
     "metadata": {},
     "output_type": "display_data"
    },
    {
     "data": {
      "text/plain": [
       "<catboost.core.CatBoostClassifier at 0x2caf2e7ca90>"
      ]
     },
     "execution_count": 36,
     "metadata": {},
     "output_type": "execute_result"
    }
   ],
   "source": [
    "model = CatBoostClassifier(\n",
    "    iterations = 13,\n",
    "    learning_rate = 0.1,\n",
    "    loss_function = \"Logloss\",\n",
    "    verbose = False,\n",
    "    eval_metric = \"AUC\",\n",
    "    custom_loss = [\"AUC\", \"Accuracy\"]\n",
    "    #early_stopping_rounds = 5\n",
    ")\n",
    "                            \n",
    "                       \n",
    "model.fit(X = pool, plot = True, eval_set = (X_test, y_test), verbose = False)"
   ]
  },
  {
   "cell_type": "code",
   "execution_count": 55,
   "id": "c964af47",
   "metadata": {},
   "outputs": [],
   "source": [
    "from typing import NoReturn\n",
    "from typing import Any\n",
    "def get_roc_score(model: CatBoostClassifier, X_test: pd.DataFrame, y_test: Any) -> NoReturn:\n",
    "    from catboost.utils import get_fpr_curve\n",
    "    from catboost.utils import get_fnr_curve\n",
    "    from catboost.utils import get_roc_curve\n",
    "    import matplotlib.pyplot as plt\n",
    "    eval_pool = Pool(X_test, y_test)\n",
    "    curve = get_roc_curve(model, data = eval_pool)\n",
    "    (thresholds, fpr) = get_fpr_curve(model = model, curve = curve)\n",
    "    (thresholds, fnr) = get_fnr_curve(model = model, curve = curve)\n",
    "    plt.plot(thresholds, fpr, color = \"blue\")\n",
    "    plt.plot(thresholds, fnr, color = \"darkorange\")\n",
    "    plt.legend([\"fpr\", \"fnr\"])\n",
    "    plt.xlabel(\"Threshold\")\n",
    "    \n",
    "    \n",
    "    \n",
    "    \n",
    "    from sklearn.metrics import roc_auc_score\n",
    "    from sklearn.metrics import accuracy_score\n",
    "    roc_score = roc_auc_score(y_test, model.predict_proba(X_test)[:, 1])\n",
    "    print(f\"ROC-AUC score is {roc_score}\")\n",
    "    ac_score = accuracy_score(y_test, pred)\n",
    "    print(f\"Accuracy score is {ac_score}\")"
   ]
  },
  {
   "cell_type": "code",
   "execution_count": 53,
   "id": "fe0d0899",
   "metadata": {
    "scrolled": true
   },
   "outputs": [
    {
     "name": "stdout",
     "output_type": "stream",
     "text": [
      "ROC-AUC score is 0.8874517374517376\n",
      "Accuracy score is 0.8212290502793296\n"
     ]
    },
    {
     "data": {
      "image/png": "[encoded data removed]",
      "text/plain": [
       "<Figure size 432x288 with 1 Axes>"
      ]
     },
     "metadata": {},
     "output_type": "display_data"
    }
   ],
   "source": [
    "get_roc_score(X_test = X_test, y_test = y_test, model = model)"
   ]
  }
 ],
 "metadata": {
  "kernelspec": {
   "display_name": "Python 3 (ipykernel)",
   "language": "python",
   "name": "python3"
  },
  "language_info": {
   "codemirror_mode": {
    "name": "ipython",
    "version": 3
   },
   "file_extension": ".py",
   "mimetype": "text/x-python",
   "name": "python",
   "nbconvert_exporter": "python",
   "pygments_lexer": "ipython3",
   "version": "3.9.6"
  }
 },
 "nbformat": 4,
 "nbformat_minor": 5
}
